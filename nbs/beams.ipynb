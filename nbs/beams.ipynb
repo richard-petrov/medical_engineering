{
 "cells": [
  {
   "cell_type": "markdown",
   "id": "bc10362a",
   "metadata": {},
   "source": [
    "# Стержень"
   ]
  },
  {
   "cell_type": "markdown",
   "id": "56f1777f",
   "metadata": {},
   "source": [
    "Стержень - расчетная схема, в которой один размер на порядок больше двух других размеров"
   ]
  },
  {
   "cell_type": "markdown",
   "id": "61153bda",
   "metadata": {},
   "source": [
    "---"
   ]
  },
  {
   "cell_type": "markdown",
   "id": "6d724072",
   "metadata": {},
   "source": [
    "### Библиотеки"
   ]
  },
  {
   "cell_type": "code",
   "execution_count": 6,
   "id": "5e99d82a",
   "metadata": {},
   "outputs": [],
   "source": [
    "from IPython.display import display, Markdown\n",
    "from scipy import integrate"
   ]
  },
  {
   "cell_type": "markdown",
   "id": "215d077e",
   "metadata": {},
   "source": [
    "## Расчет внутренний сил и напряжений"
   ]
  },
  {
   "cell_type": "markdown",
   "id": "53f7f909",
   "metadata": {},
   "source": [
    "![image.png](../data/photo/Group_1.png)"
   ]
  },
  {
   "cell_type": "code",
   "execution_count": 7,
   "metadata": {},
   "outputs": [],
   "source": [
    "# Проекции силы Q на координатные оси\n",
    "\n",
    "Q_x = 1\n",
    "Q_y = 1\n",
    "Q_z = 1"
   ]
  },
  {
   "cell_type": "code",
   "execution_count": 8,
   "id": "6857014a",
   "metadata": {},
   "outputs": [],
   "source": [
    "# Проекции момента L на координатные оси \n",
    "# L_x, L_y, L_z соотвествуют парам сил с моментами M_x, M_y, M_z\n",
    "\n",
    "M_x = 1\n",
    "M_y = 1\n",
    "M_z = 1"
   ]
  },
  {
   "cell_type": "markdown",
   "id": "6f62440c",
   "metadata": {},
   "source": [
    "![image.png](../data/photo/Group_2.png)"
   ]
  },
  {
   "cell_type": "markdown",
   "id": "9169dd24",
   "metadata": {},
   "source": [
    "![image.png](../data/photo/Group_3.png)"
   ]
  },
  {
   "cell_type": "code",
   "execution_count": 9,
   "id": "98b887de",
   "metadata": {},
   "outputs": [],
   "source": [
    "# Площадь поперечного сечения\n",
    "\n",
    "F = 1"
   ]
  },
  {
   "cell_type": "markdown",
   "id": "0cf9334d",
   "metadata": {},
   "source": [
    "### Осевой момент инерции\n",
    "\n",
    "Фундаментальное определение осевого момента инерции для любой плоской фигуры записывается в виде интеграла:\n",
    "\n",
    "$$J_x = \\iint_A y^2 dA$$\n",
    "\n",
    "---\n",
    "\n",
    "### Где:\n",
    "\n",
    "* **$J_x$** — это **осевой момент инерции** относительно горизонтальной оси `x`. Индекс указывает, вокруг какой оси мы рассматриваем сопротивление изгибу.\n",
    "\n",
    "* **$\\iint$** — это **знак двойного интеграла**. Он означает, что операция суммирования производится по всей двумерной **площади** фигуры.\n",
    "\n",
    "* **$A$** — это **область интегрирования**, то есть вся **площадь** (`Area`) поперечного сечения, для которого мы вычисляем момент инерции.\n",
    "\n",
    "* **$y$** — это **расстояние** (координата) от оси `x` до элементарной площадки $dA$. Этот символ показывает, насколько далеко от оси вращения находится каждая частица площади.\n",
    "\n",
    "* **$y^2$** — **квадрат расстояния**. Расстояние возводится в квадрат, что придаёт точкам, наиболее удалённым от оси, гораздо больший \"вес\" в итоговой сумме.\n",
    "\n",
    "* **$dA$** — это **элементарная (бесконечно малая) площадка**. Представьте, что вы разбили всю площадь сечения на миллионы крошечных частей. $dA$ — это площадь одной такой части.\n",
    "\n",
    "---\n",
    "\n",
    "### Неформальное определение\n",
    "\n",
    "\n",
    "> «Чтобы найти осевой момент инерции $J_x$, нужно для каждого бесконечно малого кусочка площади $dA$ взять его расстояние $y$ до оси `x`, возвести это расстояние в квадрат, а затем сложить (проинтегрировать) все полученные значения по всей площади $A$».\n",
    "\"\"\""
   ]
  },
  {
   "cell_type": "code",
   "execution_count": 10,
   "id": "a135ce4b",
   "metadata": {},
   "outputs": [
    {
     "ename": "SyntaxError",
     "evalue": "incomplete input (2139195429.py, line 1)",
     "output_type": "error",
     "traceback": [
      "  \u001b[36mCell\u001b[39m\u001b[36m \u001b[39m\u001b[32mIn[10]\u001b[39m\u001b[32m, line 1\u001b[39m\n\u001b[31m    \u001b[39m\u001b[31mdef integrate():\u001b[39m\n                    ^\n\u001b[31mSyntaxError\u001b[39m\u001b[31m:\u001b[39m incomplete input\n"
     ]
    }
   ],
   "source": [
    "def integrate():"
   ]
  },
  {
   "cell_type": "code",
   "execution_count": null,
   "id": "086a59da",
   "metadata": {},
   "outputs": [
    {
     "ename": "ModuleNotFoundError",
     "evalue": "No module named 'scipy'",
     "output_type": "error",
     "traceback": [
      "\u001b[31m---------------------------------------------------------------------------\u001b[39m",
      "\u001b[31mModuleNotFoundError\u001b[39m                       Traceback (most recent call last)",
      "\u001b[36mCell\u001b[39m\u001b[36m \u001b[39m\u001b[32mIn[5]\u001b[39m\u001b[32m, line 1\u001b[39m\n\u001b[32m----> \u001b[39m\u001b[32m1\u001b[39m \u001b[38;5;28;01mfrom\u001b[39;00m\u001b[38;5;250m \u001b[39m\u001b[34;01mscipy\u001b[39;00m\u001b[38;5;250m \u001b[39m\u001b[38;5;28;01mimport\u001b[39;00m integrate\n",
      "\u001b[31mModuleNotFoundError\u001b[39m: No module named 'scipy'"
     ]
    }
   ],
   "source": []
  },
  {
   "cell_type": "markdown",
   "id": "f4a46711",
   "metadata": {},
   "source": [
    "![image.png](../data/photo/Group_4.png)"
   ]
  }
 ],
 "metadata": {
  "kernelspec": {
   "display_name": ".venv (3.11.0)",
   "language": "python",
   "name": "python3"
  },
  "language_info": {
   "codemirror_mode": {
    "name": "ipython",
    "version": 3
   },
   "file_extension": ".py",
   "mimetype": "text/x-python",
   "name": "python",
   "nbconvert_exporter": "python",
   "pygments_lexer": "ipython3",
   "version": "3.11.0"
  }
 },
 "nbformat": 4,
 "nbformat_minor": 5
}
